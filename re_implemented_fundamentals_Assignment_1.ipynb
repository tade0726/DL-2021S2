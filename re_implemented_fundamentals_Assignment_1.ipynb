{
  "nbformat": 4,
  "nbformat_minor": 0,
  "metadata": {
    "colab": {
      "name": "re-implemented-fundamentals-Assignment-1.ipynb",
      "provenance": [],
      "collapsed_sections": [],
      "mount_file_id": "1fzSmv81gyylYay4ZdImg9j7GOTHMeXzY",
      "authorship_tag": "ABX9TyNj1wrnq8qAXSrrlfUBGaBJ",
      "include_colab_link": true
    },
    "kernelspec": {
      "name": "python3",
      "display_name": "Python 3"
    },
    "language_info": {
      "name": "python"
    },
    "accelerator": "GPU"
  },
  "cells": [
    {
      "cell_type": "markdown",
      "metadata": {
        "id": "view-in-github",
        "colab_type": "text"
      },
      "source": [
        "<a href=\"https://colab.research.google.com/github/tade0726/DL-2021S2/blob/main/re_implemented_fundamentals_Assignment_1.ipynb\" target=\"_parent\"><img src=\"https://colab.research.google.com/assets/colab-badge.svg\" alt=\"Open In Colab\"/></a>"
      ]
    },
    {
      "cell_type": "markdown",
      "metadata": {
        "id": "SFPZJ1mCZ_EG"
      },
      "source": [
        "# Assignment 1, Deep Learning Fundamentals 2021\n",
        "\n",
        "\n"
      ]
    },
    {
      "cell_type": "code",
      "metadata": {
        "colab": {
          "base_uri": "https://localhost:8080/"
        },
        "id": "iVuuHDLFcKAZ",
        "outputId": "12010cc4-0cdb-4355-b95e-e8d405c6d827"
      },
      "source": [
        "# prepare libs\n",
        "\n",
        "! pip install pytorch-lightning"
      ],
      "execution_count": 1,
      "outputs": [
        {
          "output_type": "stream",
          "name": "stdout",
          "text": [
            "Collecting pytorch-lightning\n",
            "  Downloading pytorch_lightning-1.4.5-py3-none-any.whl (919 kB)\n",
            "\u001b[K     |████████████████████████████████| 919 kB 5.4 MB/s \n",
            "\u001b[?25hRequirement already satisfied: tensorboard>=2.2.0 in /usr/local/lib/python3.7/dist-packages (from pytorch-lightning) (2.6.0)\n",
            "Requirement already satisfied: packaging>=17.0 in /usr/local/lib/python3.7/dist-packages (from pytorch-lightning) (21.0)\n",
            "Collecting torchmetrics>=0.4.0\n",
            "  Downloading torchmetrics-0.5.1-py3-none-any.whl (282 kB)\n",
            "\u001b[K     |████████████████████████████████| 282 kB 41.1 MB/s \n",
            "\u001b[?25hCollecting fsspec[http]!=2021.06.0,>=2021.05.0\n",
            "  Downloading fsspec-2021.8.1-py3-none-any.whl (119 kB)\n",
            "\u001b[K     |████████████████████████████████| 119 kB 43.1 MB/s \n",
            "\u001b[?25hCollecting PyYAML>=5.1\n",
            "  Downloading PyYAML-5.4.1-cp37-cp37m-manylinux1_x86_64.whl (636 kB)\n",
            "\u001b[K     |████████████████████████████████| 636 kB 36.6 MB/s \n",
            "\u001b[?25hCollecting pyDeprecate==0.3.1\n",
            "  Downloading pyDeprecate-0.3.1-py3-none-any.whl (10 kB)\n",
            "Collecting future>=0.17.1\n",
            "  Downloading future-0.18.2.tar.gz (829 kB)\n",
            "\u001b[K     |████████████████████████████████| 829 kB 30.4 MB/s \n",
            "\u001b[?25hRequirement already satisfied: numpy>=1.17.2 in /usr/local/lib/python3.7/dist-packages (from pytorch-lightning) (1.19.5)\n",
            "Requirement already satisfied: typing-extensions in /usr/local/lib/python3.7/dist-packages (from pytorch-lightning) (3.7.4.3)\n",
            "Requirement already satisfied: tqdm>=4.41.0 in /usr/local/lib/python3.7/dist-packages (from pytorch-lightning) (4.62.0)\n",
            "Requirement already satisfied: torch>=1.6 in /usr/local/lib/python3.7/dist-packages (from pytorch-lightning) (1.9.0+cu102)\n",
            "Collecting aiohttp\n",
            "  Downloading aiohttp-3.7.4.post0-cp37-cp37m-manylinux2014_x86_64.whl (1.3 MB)\n",
            "\u001b[K     |████████████████████████████████| 1.3 MB 26.3 MB/s \n",
            "\u001b[?25hRequirement already satisfied: requests in /usr/local/lib/python3.7/dist-packages (from fsspec[http]!=2021.06.0,>=2021.05.0->pytorch-lightning) (2.23.0)\n",
            "Requirement already satisfied: pyparsing>=2.0.2 in /usr/local/lib/python3.7/dist-packages (from packaging>=17.0->pytorch-lightning) (2.4.7)\n",
            "Requirement already satisfied: protobuf>=3.6.0 in /usr/local/lib/python3.7/dist-packages (from tensorboard>=2.2.0->pytorch-lightning) (3.17.3)\n",
            "Requirement already satisfied: setuptools>=41.0.0 in /usr/local/lib/python3.7/dist-packages (from tensorboard>=2.2.0->pytorch-lightning) (57.4.0)\n",
            "Requirement already satisfied: google-auth<2,>=1.6.3 in /usr/local/lib/python3.7/dist-packages (from tensorboard>=2.2.0->pytorch-lightning) (1.34.0)\n",
            "Requirement already satisfied: absl-py>=0.4 in /usr/local/lib/python3.7/dist-packages (from tensorboard>=2.2.0->pytorch-lightning) (0.12.0)\n",
            "Requirement already satisfied: google-auth-oauthlib<0.5,>=0.4.1 in /usr/local/lib/python3.7/dist-packages (from tensorboard>=2.2.0->pytorch-lightning) (0.4.5)\n",
            "Requirement already satisfied: tensorboard-plugin-wit>=1.6.0 in /usr/local/lib/python3.7/dist-packages (from tensorboard>=2.2.0->pytorch-lightning) (1.8.0)\n",
            "Requirement already satisfied: tensorboard-data-server<0.7.0,>=0.6.0 in /usr/local/lib/python3.7/dist-packages (from tensorboard>=2.2.0->pytorch-lightning) (0.6.1)\n",
            "Requirement already satisfied: wheel>=0.26 in /usr/local/lib/python3.7/dist-packages (from tensorboard>=2.2.0->pytorch-lightning) (0.37.0)\n",
            "Requirement already satisfied: grpcio>=1.24.3 in /usr/local/lib/python3.7/dist-packages (from tensorboard>=2.2.0->pytorch-lightning) (1.39.0)\n",
            "Requirement already satisfied: markdown>=2.6.8 in /usr/local/lib/python3.7/dist-packages (from tensorboard>=2.2.0->pytorch-lightning) (3.3.4)\n",
            "Requirement already satisfied: werkzeug>=0.11.15 in /usr/local/lib/python3.7/dist-packages (from tensorboard>=2.2.0->pytorch-lightning) (1.0.1)\n",
            "Requirement already satisfied: six in /usr/local/lib/python3.7/dist-packages (from absl-py>=0.4->tensorboard>=2.2.0->pytorch-lightning) (1.15.0)\n",
            "Requirement already satisfied: cachetools<5.0,>=2.0.0 in /usr/local/lib/python3.7/dist-packages (from google-auth<2,>=1.6.3->tensorboard>=2.2.0->pytorch-lightning) (4.2.2)\n",
            "Requirement already satisfied: pyasn1-modules>=0.2.1 in /usr/local/lib/python3.7/dist-packages (from google-auth<2,>=1.6.3->tensorboard>=2.2.0->pytorch-lightning) (0.2.8)\n",
            "Requirement already satisfied: rsa<5,>=3.1.4 in /usr/local/lib/python3.7/dist-packages (from google-auth<2,>=1.6.3->tensorboard>=2.2.0->pytorch-lightning) (4.7.2)\n",
            "Requirement already satisfied: requests-oauthlib>=0.7.0 in /usr/local/lib/python3.7/dist-packages (from google-auth-oauthlib<0.5,>=0.4.1->tensorboard>=2.2.0->pytorch-lightning) (1.3.0)\n",
            "Requirement already satisfied: importlib-metadata in /usr/local/lib/python3.7/dist-packages (from markdown>=2.6.8->tensorboard>=2.2.0->pytorch-lightning) (4.6.4)\n",
            "Requirement already satisfied: pyasn1<0.5.0,>=0.4.6 in /usr/local/lib/python3.7/dist-packages (from pyasn1-modules>=0.2.1->google-auth<2,>=1.6.3->tensorboard>=2.2.0->pytorch-lightning) (0.4.8)\n",
            "Requirement already satisfied: certifi>=2017.4.17 in /usr/local/lib/python3.7/dist-packages (from requests->fsspec[http]!=2021.06.0,>=2021.05.0->pytorch-lightning) (2021.5.30)\n",
            "Requirement already satisfied: urllib3!=1.25.0,!=1.25.1,<1.26,>=1.21.1 in /usr/local/lib/python3.7/dist-packages (from requests->fsspec[http]!=2021.06.0,>=2021.05.0->pytorch-lightning) (1.24.3)\n",
            "Requirement already satisfied: chardet<4,>=3.0.2 in /usr/local/lib/python3.7/dist-packages (from requests->fsspec[http]!=2021.06.0,>=2021.05.0->pytorch-lightning) (3.0.4)\n",
            "Requirement already satisfied: idna<3,>=2.5 in /usr/local/lib/python3.7/dist-packages (from requests->fsspec[http]!=2021.06.0,>=2021.05.0->pytorch-lightning) (2.10)\n",
            "Requirement already satisfied: oauthlib>=3.0.0 in /usr/local/lib/python3.7/dist-packages (from requests-oauthlib>=0.7.0->google-auth-oauthlib<0.5,>=0.4.1->tensorboard>=2.2.0->pytorch-lightning) (3.1.1)\n",
            "Collecting async-timeout<4.0,>=3.0\n",
            "  Downloading async_timeout-3.0.1-py3-none-any.whl (8.2 kB)\n",
            "Collecting yarl<2.0,>=1.0\n",
            "  Downloading yarl-1.6.3-cp37-cp37m-manylinux2014_x86_64.whl (294 kB)\n",
            "\u001b[K     |████████████████████████████████| 294 kB 48.2 MB/s \n",
            "\u001b[?25hRequirement already satisfied: attrs>=17.3.0 in /usr/local/lib/python3.7/dist-packages (from aiohttp->fsspec[http]!=2021.06.0,>=2021.05.0->pytorch-lightning) (21.2.0)\n",
            "Collecting multidict<7.0,>=4.5\n",
            "  Downloading multidict-5.1.0-cp37-cp37m-manylinux2014_x86_64.whl (142 kB)\n",
            "\u001b[K     |████████████████████████████████| 142 kB 47.0 MB/s \n",
            "\u001b[?25hRequirement already satisfied: zipp>=0.5 in /usr/local/lib/python3.7/dist-packages (from importlib-metadata->markdown>=2.6.8->tensorboard>=2.2.0->pytorch-lightning) (3.5.0)\n",
            "Building wheels for collected packages: future\n",
            "  Building wheel for future (setup.py) ... \u001b[?25l\u001b[?25hdone\n",
            "  Created wheel for future: filename=future-0.18.2-py3-none-any.whl size=491070 sha256=4bd8457aae82185a1b122b743ca32d75ef4edb2b9b0a94d1ccf6a0244b8530e0\n",
            "  Stored in directory: /root/.cache/pip/wheels/56/b0/fe/4410d17b32f1f0c3cf54cdfb2bc04d7b4b8f4ae377e2229ba0\n",
            "Successfully built future\n",
            "Installing collected packages: multidict, yarl, async-timeout, fsspec, aiohttp, torchmetrics, PyYAML, pyDeprecate, future, pytorch-lightning\n",
            "  Attempting uninstall: PyYAML\n",
            "    Found existing installation: PyYAML 3.13\n",
            "    Uninstalling PyYAML-3.13:\n",
            "      Successfully uninstalled PyYAML-3.13\n",
            "  Attempting uninstall: future\n",
            "    Found existing installation: future 0.16.0\n",
            "    Uninstalling future-0.16.0:\n",
            "      Successfully uninstalled future-0.16.0\n",
            "Successfully installed PyYAML-5.4.1 aiohttp-3.7.4.post0 async-timeout-3.0.1 fsspec-2021.8.1 future-0.18.2 multidict-5.1.0 pyDeprecate-0.3.1 pytorch-lightning-1.4.5 torchmetrics-0.5.1 yarl-1.6.3\n"
          ]
        }
      ]
    },
    {
      "cell_type": "code",
      "metadata": {
        "colab": {
          "base_uri": "https://localhost:8080/"
        },
        "id": "wj5Y8h1TG3XY",
        "outputId": "6ed40492-03ef-4902-c287-7313bea7b9fc"
      },
      "source": [
        "from google.colab import drive\n",
        "drive.mount('/content/drive')"
      ],
      "execution_count": 2,
      "outputs": [
        {
          "output_type": "stream",
          "name": "stdout",
          "text": [
            "Mounted at /content/drive\n"
          ]
        }
      ]
    },
    {
      "cell_type": "markdown",
      "metadata": {
        "id": "NtCZ_W0BW41v"
      },
      "source": [
        "## Data download"
      ]
    },
    {
      "cell_type": "code",
      "metadata": {
        "id": "Stdn-CkHZZhr"
      },
      "source": [
        "import requests\n",
        "from joblib import Memory\n",
        "from sklearn.datasets import load_svmlight_file\n",
        "from os.path import join\n",
        "\n",
        "mem = Memory(\"./mycache\")\n",
        "\n",
        "def download_file(url, save_path):\n",
        "  r = requests.get(url, allow_redirects=True)\n",
        "  with open(save_path, \"wb\") as file:\n",
        "    file.write(r.content)\n",
        "  return save_path\n",
        "\n",
        "@mem.cache\n",
        "def get_data(file_path):\n",
        "    data = load_svmlight_file(file_path)\n",
        "    return data[0], data[1]"
      ],
      "execution_count": 3,
      "outputs": []
    },
    {
      "cell_type": "code",
      "metadata": {
        "id": "82JL_gKUFhWc"
      },
      "source": [
        "# config and meta data\n",
        "\n",
        "data = {\n",
        "    \"raw\": \"https://www.csie.ntu.edu.tw/~cjlin/libsvmtools/datasets/binary/diabetes\",\n",
        "    \"scale\": \"https://www.csie.ntu.edu.tw/~cjlin/libsvmtools/datasets/binary/diabetes_scale\"\n",
        "}\n",
        "\n",
        "\n",
        "data_dir = \"./drive/MyDrive/Colab_Notebooks/Uni/2021S2/DL/DL-asset-1/data\"\n",
        "model_dir = \"./drive/MyDrive/Colab_Notebooks/Uni/2021S2/DL/DL-asset-1/model\"\n",
        "\n",
        "data_file_paths  = {}\n",
        "download_needed = False"
      ],
      "execution_count": 4,
      "outputs": []
    },
    {
      "cell_type": "code",
      "metadata": {
        "id": "drK26yXAIqWu"
      },
      "source": [
        "if download_needed:\n",
        "  for k, url in data.items():\n",
        "    r = download_file(url, join(data_dir, f\"diabetes_{k}\"))\n",
        "    data_file_paths[k] = r\n",
        "else:\n",
        "  data_file_paths = {\n",
        "      \"raw\": join(data_dir, \"diabetes_raw\"),\n",
        "      \"scale\": join(data_dir, \"diabetes_scale\")\n",
        "\n",
        "  }"
      ],
      "execution_count": 5,
      "outputs": []
    },
    {
      "cell_type": "code",
      "metadata": {
        "id": "vCIRmfVgVLoT",
        "colab": {
          "base_uri": "https://localhost:8080/"
        },
        "outputId": "34860d3c-e737-4de9-8272-70c971aa9146"
      },
      "source": [
        "data_store = {}\n",
        "\n",
        "for k, p in data_file_paths.items():\n",
        "  X, y = get_data(p)\n",
        "  data_store[k] = (X, y)"
      ],
      "execution_count": 6,
      "outputs": [
        {
          "output_type": "stream",
          "name": "stdout",
          "text": [
            "________________________________________________________________________________\n",
            "[Memory] Calling __main__--content-<ipython-input-3c9a0cb28b44>.get_data...\n",
            "get_data('./drive/MyDrive/Colab_Notebooks/Uni/2021S2/DL/DL-asset-1/data/diabetes_raw')\n",
            "_________________________________________________________get_data - 1.2s, 0.0min\n",
            "________________________________________________________________________________\n",
            "[Memory] Calling __main__--content-<ipython-input-3c9a0cb28b44>.get_data...\n",
            "get_data('./drive/MyDrive/Colab_Notebooks/Uni/2021S2/DL/DL-asset-1/data/diabetes_scale')\n",
            "_________________________________________________________get_data - 0.2s, 0.0min\n"
          ]
        }
      ]
    },
    {
      "cell_type": "markdown",
      "metadata": {
        "id": "Bi-gQvoFoClK"
      },
      "source": [
        "## A Perceptron Build from scratch "
      ]
    },
    {
      "cell_type": "code",
      "metadata": {
        "id": "SRUstb6hoRjE"
      },
      "source": [
        "from sklearn.model_selection import train_test_split\n",
        "import numpy as np\n",
        "import math\n",
        "\n",
        "\n",
        "class Perceptron:\n",
        "\n",
        "    def __init__(self, lr, iteration_num: int):\n",
        "\n",
        "        self.lr = lr\n",
        "        self.iteration_num = iteration_num\n",
        "\n",
        "    def binary_step(self, x):\n",
        "        return np.where(x >= 0, 1, 0)\n",
        "\n",
        "    def forward(self, x):\n",
        "        return np.matmul(self.weight, x) + self.bias\n",
        "\n",
        "    def update(self, x, error):\n",
        "        self.weight = self.weight - x * error * self.lr\n",
        "        self.bias = self.bias - self.lr * error\n",
        "\n",
        "    def fit(self, X, y):\n",
        "\n",
        "        self.weight = np.random.uniform(low=-1, high=1, size=X.shape[1])\n",
        "        self.bias = np.random.uniform(low=-1, high=1, size=1)\n",
        "\n",
        "        for i in range(self.iteration_num):\n",
        "            for x_, y_ in zip(X, y):\n",
        "                output = self.forward(x_)\n",
        "                y_predict = self.binary_step(output)\n",
        "                error = y_predict - y_\n",
        "                self.update(x_, error)\n",
        "\n",
        "    def predict(self, X):\n",
        "\n",
        "        y = []\n",
        "\n",
        "        for x in X:\n",
        "          y_ = self.forward(x)\n",
        "          y_ = self.binary_step(y_[0]) \n",
        "          y.append(y_)\n",
        "\n",
        "        return np.array(y)"
      ],
      "execution_count": 7,
      "outputs": []
    },
    {
      "cell_type": "code",
      "metadata": {
        "id": "ba4tSJpfzdh4"
      },
      "source": [
        "# data prepare\n",
        "n_X = data_store[\"scale\"][0].toarray()\n",
        "n_y = data_store[\"scale\"][1]\n",
        "\n",
        "n_y = np.where(n_y == -1, 0, n_y)"
      ],
      "execution_count": 8,
      "outputs": []
    },
    {
      "cell_type": "code",
      "metadata": {
        "id": "lu8YQQB86x2c"
      },
      "source": [
        "import pandas as pd\n",
        "\n",
        "s = pd.Series(n_y)"
      ],
      "execution_count": 18,
      "outputs": []
    },
    {
      "cell_type": "code",
      "metadata": {
        "colab": {
          "base_uri": "https://localhost:8080/"
        },
        "id": "Nq8fM39mVdBL",
        "outputId": "bd0f7f89-6ac6-436d-cb30-abdc0d539b10"
      },
      "source": [
        "s.value_counts()"
      ],
      "execution_count": 23,
      "outputs": [
        {
          "output_type": "execute_result",
          "data": {
            "text/plain": [
              "1.0    500\n",
              "0.0    268\n",
              "dtype: int64"
            ]
          },
          "metadata": {},
          "execution_count": 23
        }
      ]
    },
    {
      "cell_type": "code",
      "metadata": {
        "colab": {
          "base_uri": "https://localhost:8080/",
          "height": 288
        },
        "id": "U4hLfBWfVPSb",
        "outputId": "c0ccf649-21c4-4a5f-bb60-a1f04282ed90"
      },
      "source": [
        "s.value_counts().plot(kind=\"bar\")"
      ],
      "execution_count": 22,
      "outputs": [
        {
          "output_type": "execute_result",
          "data": {
            "text/plain": [
              "<matplotlib.axes._subplots.AxesSubplot at 0x7f71aabfb610>"
            ]
          },
          "metadata": {},
          "execution_count": 22
        },
        {
          "output_type": "display_data",
          "data": {
            "image/png": "[encoded data removed]",
            "text/plain": [
              "<Figure size 432x288 with 1 Axes>"
            ]
          },
          "metadata": {
            "needs_background": "light"
          }
        }
      ]
    },
    {
      "cell_type": "code",
      "metadata": {
        "id": "wG4tHTFm6xdV"
      },
      "source": [
        "# train val test split\n",
        "n_X_train, n_X_test, n_y_train, n_y_test = train_test_split(n_X, n_y, test_size=0.20, random_state=69)\n",
        "n_X_val, n_X_test, n_y_val, n_y_test = train_test_split(n_X_test, n_y_test, test_size=0.50, random_state=69)"
      ],
      "execution_count": 19,
      "outputs": []
    },
    {
      "cell_type": "code",
      "metadata": {
        "id": "yWGULC9d1zkf"
      },
      "source": [
        "p = Perceptron(lr=0.01, iteration_num=50)\n",
        "\n",
        "p.fit(n_X_train, n_y_train)"
      ],
      "execution_count": 24,
      "outputs": []
    },
    {
      "cell_type": "code",
      "metadata": {
        "id": "9Vgiw9jZ110I"
      },
      "source": [
        "y_val_predict = p.predict(n_X_val)"
      ],
      "execution_count": 25,
      "outputs": []
    },
    {
      "cell_type": "code",
      "metadata": {
        "colab": {
          "base_uri": "https://localhost:8080/"
        },
        "id": "u8_u2hid24td",
        "outputId": "64f2fe98-fed7-42b3-f75f-dbb5c4200015"
      },
      "source": [
        "from sklearn.metrics import classification_report\n",
        "\n",
        "print(classification_report(n_y_val, y_val_predict))"
      ],
      "execution_count": 26,
      "outputs": [
        {
          "output_type": "stream",
          "name": "stdout",
          "text": [
            "              precision    recall  f1-score   support\n",
            "\n",
            "         0.0       0.67      0.46      0.55        26\n",
            "         1.0       0.76      0.88      0.82        51\n",
            "\n",
            "    accuracy                           0.74        77\n",
            "   macro avg       0.71      0.67      0.68        77\n",
            "weighted avg       0.73      0.74      0.73        77\n",
            "\n"
          ]
        }
      ]
    }
  ]
}